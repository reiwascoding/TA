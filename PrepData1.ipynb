{
 "cells": [
  {
   "cell_type": "code",
   "execution_count": 1,
   "metadata": {},
   "outputs": [],
   "source": [
    "import os\n",
    "import nibabel as nib\n",
    "import numpy as np\n"
   ]
  },
  {
   "cell_type": "code",
   "execution_count": 5,
   "metadata": {},
   "outputs": [],
   "source": [
    "def nifti_to_npy(nifti_file):\n",
    "    \"\"\"\n",
    "    Convert a NIfTI file to a numpy array.\n",
    "    \"\"\"\n",
    "    img = nib.load(nifti_file)\n",
    "    data = img.get_fdata()\n",
    "    return np.array(data)\n",
    "\n",
    "def process_patient_folders(base_dir):\n",
    "    \"\"\"\n",
    "    Process each patient folder to convert NIfTI files to numpy arrays\n",
    "    and organize them into the specified folder structure.\n",
    "    \"\"\"\n",
    "    for patient_no in range(101, 151):  # Loop from patient001 to patient100\n",
    "        patient_folder_name = f\"patient{str(patient_no).zfill(3)}\"  # patient001, patient002, ..., patient100\n",
    "        patient_dir = os.path.join(base_dir, 'testing', patient_folder_name)\n",
    "        target_dir = os.path.join(base_dir, 'testprocessed', f\"patient{patient_no}\")  # Output folder\n",
    "        \n",
    "        # Create directories for images and masks within the patient's folder\n",
    "        images_dir = os.path.join(target_dir, 'image')\n",
    "        masks_dir = os.path.join(target_dir, 'mask')\n",
    "        os.makedirs(images_dir, exist_ok=True)\n",
    "        os.makedirs(masks_dir, exist_ok=True)\n",
    "        \n",
    "        # Loop through each NIfTI file in the patient's folder and convert to numpy array\n",
    "        for file in os.listdir(patient_dir):\n",
    "            if file.endswith(\".nii.gz\"):\n",
    "                nifti_path = os.path.join(patient_dir, file)\n",
    "                npy_array = nifti_to_npy(nifti_path)\n",
    "                \n",
    "                # Determine if it's an image or a mask based on the filename\n",
    "                if '_gt' in file:\n",
    "                    npy_target_path = os.path.join(masks_dir, file.replace('.nii.gz', '.npy'))\n",
    "                else:\n",
    "                    npy_target_path = os.path.join(images_dir, file.replace('.nii.gz', '.npy'))\n",
    "                \n",
    "                # Convert 3D to 2D: Assuming we want to save slices along a specific axis (e.g., axis=2)\n",
    "                for slice_idx in range(npy_array.shape[2]):\n",
    "                    slice_npy = npy_array[:, :, slice_idx]\n",
    "                    slice_npy_path = npy_target_path.replace('.npy', f'_slice{slice_idx}.npy')\n",
    "                    np.save(slice_npy_path, slice_npy)\n",
    "                    "
   ]
  },
  {
   "cell_type": "code",
   "execution_count": 6,
   "metadata": {},
   "outputs": [],
   "source": [
    "base_dir = 'D:\\Kodingan\\Kodingan TA\\database'  # Modify this path to your base directory\n",
    "process_patient_folders(base_dir)"
   ]
  },
  {
   "cell_type": "code",
   "execution_count": 2,
   "metadata": {},
   "outputs": [],
   "source": [
    "def delete_4d_npy_files_recursive(directory):\n",
    "    \"\"\"\n",
    "    Recursively delete all .npy files containing '_4d' in their filenames within the specified directory and its subdirectories.\n",
    "    \"\"\"\n",
    "    for root, dirs, files in os.walk(directory):\n",
    "        for file in files:\n",
    "            if file.endswith('.npy') and '_4d' in file:\n",
    "                file_path = os.path.join(root, file)\n",
    "                try:\n",
    "                    os.remove(file_path)\n",
    "                    print(f\"Deleted: {file_path}\")\n",
    "                except Exception as e:\n",
    "                    print(f\"Error deleting {file_path}: {e}\")"
   ]
  },
  {
   "cell_type": "code",
   "execution_count": null,
   "metadata": {},
   "outputs": [],
   "source": [
    "directory = 'D:\\Kodingan\\Kodingan TA\\database\\\\testprocessed'  # Modify this to your target directory\n",
    "delete_4d_npy_files_recursive(directory)"
   ]
  },
  {
   "cell_type": "code",
   "execution_count": 3,
   "metadata": {},
   "outputs": [],
   "source": [
    "import matplotlib.pyplot as plt\n",
    "\n",
    "def load_npy_files(directory):\n",
    "    \"\"\"\n",
    "    Load all .npy files from the specified directory and return the arrays along with their filenames.\n",
    "    \"\"\"\n",
    "    files = sorted([os.path.join(directory, f) for f in os.listdir(directory) if f.endswith('.npy')])\n",
    "    arrays = [np.load(f) for f in files]\n",
    "    filenames = [os.path.basename(f) for f in files]  # Extract filenames\n",
    "    return arrays, filenames\n",
    "\n",
    "def display_images_and_masks(patient_dir):\n",
    "    \"\"\"\n",
    "    Display all image slices and their corresponding masks for a given patient, including the filenames.\n",
    "    \"\"\"\n",
    "    images_dir = os.path.join(patient_dir, 'image')\n",
    "    masks_dir = os.path.join(patient_dir, 'mask')\n",
    "    \n",
    "    images, image_filenames = load_npy_files(images_dir)\n",
    "    masks, mask_filenames = load_npy_files(masks_dir)\n",
    "    \n",
    "    # Assuming the number of images and masks are the same\n",
    "    for i in range(len(images)):\n",
    "        fig, ax = plt.subplots(1, 2, figsize=(12, 6))\n",
    "        ax[0].imshow(images[i], cmap='gray')\n",
    "        ax[0].set_title(f'Image: {image_filenames[i]}')\n",
    "        ax[0].axis('off')\n",
    "        \n",
    "        ax[1].imshow(masks[i], cmap='gray')\n",
    "        ax[1].set_title(f'Mask: {mask_filenames[i]}')\n",
    "        ax[1].axis('off')\n",
    "        \n",
    "        plt.show()\n",
    "\n"
   ]
  },
  {
   "cell_type": "code",
   "execution_count": null,
   "metadata": {},
   "outputs": [],
   "source": [
    "base_dir = 'D:\\Kodingan\\Kodingan TA\\database'  # Modify this to your base directory\n",
    "patient_number = 29 # Change this to display a different patient\n",
    "patient_dir = os.path.join(base_dir, 'processed', f'patient{patient_number}')\n",
    "display_images_and_masks(patient_dir)"
   ]
  }
 ],
 "metadata": {
  "kernelspec": {
   "display_name": "rgpu",
   "language": "python",
   "name": "python3"
  },
  "language_info": {
   "codemirror_mode": {
    "name": "ipython",
    "version": 3
   },
   "file_extension": ".py",
   "mimetype": "text/x-python",
   "name": "python",
   "nbconvert_exporter": "python",
   "pygments_lexer": "ipython3",
   "version": "3.11.5"
  }
 },
 "nbformat": 4,
 "nbformat_minor": 2
}
